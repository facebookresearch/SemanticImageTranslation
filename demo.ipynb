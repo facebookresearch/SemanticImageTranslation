{
 "cells": [
  {
   "cell_type": "code",
   "execution_count": 1,
   "metadata": {},
   "outputs": [],
   "source": [
    "from PIL import Image\n",
    "import torchvision.transforms as T\n",
    "from src.flexit_editer import FlexitEditer\n",
    "import ipywidgets as widgets\n",
    "from io import BytesIO"
   ]
  },
  {
   "cell_type": "code",
   "execution_count": 9,
   "metadata": {},
   "outputs": [
    {
     "name": "stdout",
     "output_type": "stream",
     "text": [
      "Setting up [LPIPS] perceptual loss: trunk [vgg], v[0.1], spatial [off]\n",
      "Loading model from: /private/home/gcouairon/.conda/envs/pytorch/lib/python3.9/site-packages/lpips/weights/v0.1/vgg.pth\n",
      "Working with z of shape (1, 256, 16, 16) = 65536 dimensions.\n",
      "loaded pretrained LPIPS loss from taming/modules/autoencoder/lpips/vgg.pth\n",
      "VQLPIPSWithDiscriminator running with hinge loss.\n"
     ]
    }
   ],
   "source": [
    "transformer = FlexitEditer(\n",
    "    names = ['RN50', 'RN50x4', 'ViT-B/32', 'RN50x16', 'ViT-B/16'],\n",
    "img_size = 288,\n",
    "mode = 'vqgan',\n",
    "lr=0.05,\n",
    "device = 'cuda:1',\n",
    "n_augment = 1,\n",
    "znorm_weight = 0.05,\n",
    "im0_coef = 0.2,\n",
    "source_coef=0.4,\n",
    "latent_space = 'vqgan',\n",
    "lpips_weight = 0.15,\n",
    ")"
   ]
  },
  {
   "cell_type": "code",
   "execution_count": null,
   "metadata": {},
   "outputs": [],
   "source": [
    "#\n",
    "img_path = 'assets/dog1.png'\n",
    "img0 = Image.open(img_path).convert('RGB')\n",
    "bio = BytesIO()\n",
    "img0.save(bio, format='png')\n",
    "\n",
    "im = widgets.Image(\n",
    "            value=bio.getvalue(),\n",
    "            format='png',\n",
    "            width=384,\n",
    "            height=384)\n",
    "display(im)"
   ]
  },
  {
   "cell_type": "code",
   "execution_count": 16,
   "metadata": {},
   "outputs": [
    {
     "name": "stdout",
     "output_type": "stream",
     "text": [
      "CPU times: user 2min 11s, sys: 2.09 s, total: 2min 14s\n",
      "Wall time: 1min 10s\n"
     ]
    }
   ],
   "source": [
    "%%time    \n",
    "\n",
    "transformer.args.max_iter = 160\n",
    "out_imgs, *_ = transformer(img0, \n",
    "                          'standard schnauzer',\n",
    "                          'Yorkshire Terrier')\n",
    "out_img = out_imgs[transformer.args.max_iter]\n",
    "bio = BytesIO()\n",
    "out_img.save(bio, format='png')\n",
    "im.value = bio.getvalue()"
   ]
  },
  {
   "cell_type": "code",
   "execution_count": null,
   "metadata": {},
   "outputs": [],
   "source": []
  }
 ],
 "metadata": {
  "kernelspec": {
   "display_name": "Python 3",
   "language": "python",
   "name": "python3"
  },
  "language_info": {
   "codemirror_mode": {
    "name": "ipython",
    "version": 3
   },
   "file_extension": ".py",
   "mimetype": "text/x-python",
   "name": "python",
   "nbconvert_exporter": "python",
   "pygments_lexer": "ipython3",
   "version": "3.9.1"
  }
 },
 "nbformat": 4,
 "nbformat_minor": 4
}
